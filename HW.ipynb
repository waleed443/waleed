{
  "metadata": {
    "kernelspec": {
      "name": "python",
      "display_name": "Python (Pyodide)",
      "language": "python"
    },
    "language_info": {
      "codemirror_mode": {
        "name": "python",
        "version": 3
      },
      "file_extension": ".py",
      "mimetype": "text/x-python",
      "name": "python",
      "nbconvert_exporter": "python",
      "pygments_lexer": "ipython3",
      "version": "3.8"
    }
  },
  "nbformat_minor": 4,
  "nbformat": 4,
  "cells": [
    {
      "cell_type": "markdown",
      "source": "# Data Science Tools and Ecosystem",
      "metadata": {}
    },
    {
      "cell_type": "markdown",
      "source": " In this notebook, Data Science Tools and Ecosystem are summarized..",
      "metadata": {}
    },
    {
      "cell_type": "markdown",
      "source": "## Objectives\n- Understand the core languages used in data science.\n- Familiarize with popular data science libraries.\n- Explore essential data science tools.\n- Perform basic arithmetic operations relevant to data science.",
      "metadata": {}
    },
    {
      "cell_type": "markdown",
      "source": " Data Science Languages\n- Python\n- R\n- SQL\n- Julia\n- Java\n- Scala",
      "metadata": {}
    },
    {
      "cell_type": "markdown",
      "source": " Data Science Libraries\n- NumPy\n- Pandas\n- Matplotlib\n- SciPy\n- Scikit-learn\n- TensorFlow\n- Keras\n- PyTorch",
      "metadata": {}
    },
    {
      "cell_type": "markdown",
      "source": "## Data Science Tools (table)\n| Tool           | Description                                      |\n|----------------|--------------------------------------------------|\n| Jupyter        | Interactive computing environment                |\n| RStudio        | Integrated development environment for R         |\n| Apache Hadoop  | Framework for distributed storage and processing |\n| Tableau        | Data visualization software                      |\n| Power BI       | Business analytics tool by Microsoft             |",
      "metadata": {}
    },
    {
      "cell_type": "markdown",
      "source": "### Below are a few examples of evaluating arithmetic expressions in Python\n",
      "metadata": {}
    },
    {
      "cell_type": "code",
      "source": "# Multiply and add numbers\nresult = (3 * 4) + 5\nresult\n",
      "metadata": {
        "trusted": true
      },
      "outputs": [
        {
          "execution_count": 4,
          "output_type": "execute_result",
          "data": {
            "text/plain": "17"
          },
          "metadata": {}
        }
      ],
      "execution_count": 4
    },
    {
      "cell_type": "code",
      "source": "# Convert minutes to hours\nminutes = 200\nhours = minutes / 60\nhours\n",
      "metadata": {
        "trusted": true
      },
      "outputs": [
        {
          "execution_count": 7,
          "output_type": "execute_result",
          "data": {
            "text/plain": "3.3333333333333335"
          },
          "metadata": {}
        }
      ],
      "execution_count": 7
    },
    {
      "cell_type": "markdown",
      "source": "## Author\nWALEED ALZAHRANI",
      "metadata": {}
    },
    {
      "cell_type": "code",
      "source": "",
      "metadata": {
        "trusted": true
      },
      "outputs": [],
      "execution_count": null
    }
  ]
}